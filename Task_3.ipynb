{
  "nbformat": 4,
  "nbformat_minor": 0,
  "metadata": {
    "colab": {
      "provenance": []
    },
    "kernelspec": {
      "name": "python3",
      "display_name": "Python 3"
    },
    "language_info": {
      "name": "python"
    }
  },
  "cells": [
    {
      "cell_type": "markdown",
      "source": [
        "# Task 3 Due date on 28.07"
      ],
      "metadata": {
        "id": "MdSD6qVgvGOb"
      }
    },
    {
      "cell_type": "markdown",
      "metadata": {
        "id": "ff38aad7"
      },
      "source": [
        "### 1-Write a Python program that takes two numbers as user input and performs addition on them."
      ]
    },
    {
      "cell_type": "code",
      "source": [
        "#function to perform the numbers addition\n",
        "def add_numbers(num1, num2):\n",
        "    return num1 + num2\n",
        "\n",
        "#function to validate the user's entry\n",
        "def get_number(prompt):\n",
        "    while True:\n",
        "        try:\n",
        "            num = float(input(prompt))\n",
        "            return num\n",
        "        except ValueError:\n",
        "            print(\"Invalid input. Please enter a valid number.\")\n",
        "#function to run the sum app\n",
        "def sumapp():\n",
        "\n",
        "    num1 = get_number(\"Enter the first number: \")\n",
        "    num2 = get_number(\"Enter the second number: \")\n",
        "\n",
        "\n",
        "    result = add_numbers(num1, num2)\n",
        "\n",
        "    print(f\"The sum of {num1} and {num2} is: {result}\")\n",
        "\n",
        "# type sumapp() to run the app\n",
        "sumapp()"
      ],
      "metadata": {
        "id": "wsbH3k7xrsug",
        "colab": {
          "base_uri": "https://localhost:8080/"
        },
        "outputId": "7d06a853-918e-4a31-87d7-1f9026d880a3"
      },
      "execution_count": null,
      "outputs": [
        {
          "output_type": "stream",
          "name": "stdout",
          "text": [
            "Enter the first number: -1\n",
            "Enter the second number: 2\n",
            "The sum of -1.0 and 2.0 is: 1.0\n"
          ]
        }
      ]
    },
    {
      "cell_type": "markdown",
      "metadata": {
        "id": "360854ff"
      },
      "source": [
        "### 2-Write a Python program that takes an integer as input and checks if it is even or odd. Print \"Even\" if the number is divisible by 2, otherwise print \"Odd\"."
      ]
    },
    {
      "cell_type": "code",
      "execution_count": null,
      "metadata": {
        "ExecuteTime": {
          "end_time": "2023-07-23T21:35:24.351946Z",
          "start_time": "2023-07-23T21:35:23.287212Z"
        },
        "id": "ee4c35fe",
        "colab": {
          "base_uri": "https://localhost:8080/"
        },
        "outputId": "6ec7e20f-1d4d-43ef-86fa-c7754970a904"
      },
      "outputs": [
        {
          "output_type": "stream",
          "name": "stdout",
          "text": [
            "Enter a number: sa\n",
            "Invalid input. Please enter a valid number.\n",
            "Enter a number: 5\n",
            "5.0 is odd.\n"
          ]
        }
      ],
      "source": [
        "#function to run the number Identifier app\n",
        "\n",
        "def numberID():\n",
        "    num = get_number(\"Enter a number: \")\n",
        "    if num % 2 == 0:\n",
        "        print(f\"{num} is even.\")\n",
        "    else:\n",
        "        print(f\"{num} is odd.\")\n",
        "\n",
        "# type numberID() to run the app\n",
        "numberID()"
      ]
    },
    {
      "cell_type": "code",
      "execution_count": null,
      "metadata": {
        "id": "24616afc"
      },
      "outputs": [],
      "source": []
    },
    {
      "cell_type": "markdown",
      "metadata": {
        "id": "6ea0354c"
      },
      "source": [
        "### 3-Write a Python program that prints all the even numbers from 1 to 20 using a for loop"
      ]
    },
    {
      "cell_type": "code",
      "execution_count": null,
      "metadata": {
        "ExecuteTime": {
          "end_time": "2023-07-23T21:36:51.373589Z",
          "start_time": "2023-07-23T21:36:51.365580Z"
        },
        "id": "df43b7f5",
        "colab": {
          "base_uri": "https://localhost:8080/"
        },
        "outputId": "9eee3314-3c3c-4cad-add5-e9c600059155"
      },
      "outputs": [
        {
          "output_type": "stream",
          "name": "stdout",
          "text": [
            "enter a number you want to type all the even numbers before it : 28\n",
            "2 4 6 8 10 12 14 16 18 20 22 24 26 28 "
          ]
        }
      ],
      "source": [
        "def print_even_numbers():\n",
        "\n",
        "   num = input(\"enter a number you want to type all the even numbers before it : \")\n",
        "   while True:\n",
        "       try:\n",
        "           num = int(num)\n",
        "           if num <= 0:\n",
        "               print(\"it should be a positive number\")\n",
        "               num = input(\"enter a number you want to type all the even numbers before it : \")\n",
        "           else:\n",
        "               break\n",
        "       except ValueError:\n",
        "           print(\"Invalid input. Please enter a valid number.\")\n",
        "           num = input(\"enter a number you want to type all the even numbers before it : \")\n",
        "\n",
        "   for i in range(1, num + 1):\n",
        "       if i % 2 == 0:\n",
        "           print(i,end=\" \")\n",
        "\n",
        "# type print_even_numbers() to run the app\n",
        "print_even_numbers()"
      ]
    },
    {
      "cell_type": "markdown",
      "metadata": {
        "id": "2d66bab2"
      },
      "source": [
        "### 4-Write a Python function that takes a string as input and counts the number of vowels (a, e, i, o, u) in the string. The function should return the count"
      ]
    },
    {
      "cell_type": "code",
      "execution_count": null,
      "metadata": {
        "ExecuteTime": {
          "end_time": "2023-07-23T21:45:58.522044Z",
          "start_time": "2023-07-23T21:45:58.514370Z"
        },
        "id": "a37a84fd",
        "colab": {
          "base_uri": "https://localhost:8080/"
        },
        "outputId": "9beb651c-52a2-4f2b-910e-c681e738c7d9"
      },
      "outputs": [
        {
          "output_type": "execute_result",
          "data": {
            "text/plain": [
              "2"
            ]
          },
          "metadata": {},
          "execution_count": 22
        }
      ],
      "source": [
        "\n",
        "def count_vowels(string):\n",
        "    vowels = \"aeiouAEIOU\"\n",
        "    count = 0\n",
        "    for char in string:\n",
        "        if char in vowels:\n",
        "            count += 1\n",
        "    return count\n",
        "\n",
        "count_vowels(\"hello\")"
      ]
    },
    {
      "cell_type": "code",
      "execution_count": null,
      "metadata": {
        "ExecuteTime": {
          "end_time": "2023-07-23T23:56:27.324204Z",
          "start_time": "2023-07-23T23:56:26.972092Z"
        },
        "id": "2eb8e4de"
      },
      "outputs": [],
      "source": []
    },
    {
      "cell_type": "code",
      "execution_count": null,
      "metadata": {
        "ExecuteTime": {
          "end_time": "2023-07-23T21:43:41.353283Z",
          "start_time": "2023-07-23T21:43:41.332496Z"
        },
        "id": "24105679"
      },
      "outputs": [],
      "source": []
    },
    {
      "cell_type": "markdown",
      "metadata": {
        "id": "a9a0ea06"
      },
      "source": [
        "### 5-Write a Python program that creates a list of numbers from 1 to 10. Use a loop to iterate over the list and print each number of power 2."
      ]
    },
    {
      "cell_type": "code",
      "execution_count": null,
      "metadata": {
        "ExecuteTime": {
          "end_time": "2023-07-23T21:48:02.328880Z",
          "start_time": "2023-07-23T21:48:02.314313Z"
        },
        "id": "6fa658cf",
        "colab": {
          "base_uri": "https://localhost:8080/"
        },
        "outputId": "e93b26d7-6595-4c10-93c5-e8e076761148"
      },
      "outputs": [
        {
          "output_type": "stream",
          "name": "stdout",
          "text": [
            "1^2 = 1\n",
            "2^2 = 4\n",
            "3^2 = 9\n",
            "4^2 = 16\n",
            "5^2 = 25\n",
            "6^2 = 36\n",
            "7^2 = 49\n",
            "8^2 = 64\n",
            "9^2 = 81\n",
            "10^2 = 100\n"
          ]
        }
      ],
      "source": [
        "numbers = list(range(1, 11))\n",
        "\n",
        "for number in numbers:\n",
        "    print(f\"{number}^2 = {number ** 2}\")"
      ]
    },
    {
      "cell_type": "code",
      "execution_count": null,
      "metadata": {
        "ExecuteTime": {
          "end_time": "2023-07-15T16:20:03.747408Z",
          "start_time": "2023-07-15T16:20:03.740547Z"
        },
        "id": "f0e52d30"
      },
      "outputs": [],
      "source": []
    },
    {
      "cell_type": "markdown",
      "metadata": {
        "id": "430c9df9"
      },
      "source": [
        "### 6-Write a Python program that calculates the average grade for a student based on their scores in different subjects. The program should include the following steps:\n",
        "\n",
        "#### 1-Create variables to store the student's name, subject names, and corresponding scores. Initialize the variables with sample data.\n",
        "\n",
        "#### 2-Prompt the user to enter the student's name and assign it to the name variable.\n",
        "\n",
        "#### 3-Use a loop to prompt the user to enter the subject names and corresponding scores. Store the subject names in a list and the scores in another list.\n",
        "\n",
        "#### 4-After collecting the scores, calculate the average grade by summing up all the scores and dividing by the total number of subjects.\n",
        "\n",
        "#### 5-Check if the average grade is above a 70, print a congratulatory message. Otherwise, print an encouragement message."
      ]
    },
    {
      "cell_type": "code",
      "source": [
        "# Step 1: Initialize sample data\n",
        "student_name = []\n",
        "subjects = []\n",
        "scores = []\n",
        "\n",
        "# Step 2: Prompt the user to enter the student's name\n",
        "student_name = input(\"Enter your name: \")\n",
        "\n",
        "# Step 3: Use a loop to prompt the user to enter the subject names and corresponding scores\n",
        "num_subjects = int(input(\"Enter the number of subjects: \"))\n",
        "\n",
        "for number in range(num_subjects):\n",
        "    subject = input(\"Enter the subject name: \")\n",
        "    score = float(input(f\"Enter the score for {subject}: \"))\n",
        "    subjects.append(subject)\n",
        "    scores.append(score)\n",
        "\n",
        "# Step 4: Calculate the average grade\n",
        "total_score = sum(scores)\n",
        "average_grade = total_score / num_subjects\n",
        "\n",
        "# Step 5: Check if the average grade is above 70 and print an appropriate message\n",
        "if average_grade > 70:\n",
        "    print(f\"Congratulations, {student_name}! Your average grade is {average_grade:.2f}. Keep up the good work!\")\n",
        "else:\n",
        "    print(f\"Keep trying, {student_name}. Your average grade is {average_grade:.2f}. You can improve!\")\n",
        "\n"
      ],
      "metadata": {
        "colab": {
          "base_uri": "https://localhost:8080/"
        },
        "id": "z-wnpgJciKHb",
        "outputId": "d71499de-e386-48ea-ddd0-1b2ca5327f5c"
      },
      "execution_count": null,
      "outputs": [
        {
          "output_type": "stream",
          "name": "stdout",
          "text": [
            "Enter your name: hamada\n",
            "Enter the number of subjects: 5\n",
            "Enter the subject name: math\n",
            "Enter the score for math: 70\n",
            "Enter the subject name: physics\n",
            "Enter the score for physics: 80\n",
            "Enter the subject name: art\n",
            "Enter the score for art: 59\n",
            "Enter the subject name: pizaa\n",
            "Enter the score for pizaa: 54\n",
            "Enter the subject name: aloo\n",
            "Enter the score for aloo: 55\n",
            "Keep trying, hamada. Your average grade is 63.60. You can improve!\n"
          ]
        }
      ]
    },
    {
      "cell_type": "markdown",
      "metadata": {
        "id": "ae9df360"
      },
      "source": [
        "### 7-Find Common Elements\n",
        "### Write a Python function that takes two lists as input and returns a new list containing the common elements present in both lists."
      ]
    },
    {
      "cell_type": "code",
      "execution_count": null,
      "metadata": {
        "ExecuteTime": {
          "end_time": "2023-07-23T22:08:16.794474Z",
          "start_time": "2023-07-23T22:08:16.775639Z"
        },
        "id": "d030c3c0",
        "colab": {
          "base_uri": "https://localhost:8080/"
        },
        "outputId": "da7e7541-96aa-4bc9-86dd-9d51bef3db3c"
      },
      "outputs": [
        {
          "output_type": "stream",
          "name": "stdout",
          "text": [
            "Common elements: [4, 5]\n"
          ]
        }
      ],
      "source": [
        "def common_elements(list1, list2):\n",
        "    # Use a set to find the intersection of both lists\n",
        "    common = set(list1) & set(list2)\n",
        "    # Convert the set back to a list\n",
        "    return list(common)\n",
        "\n",
        "\n",
        "list1 = [1, 2, 3, 4, 5]\n",
        "list2 = [4, 5, 6, 7, 8]\n",
        "result = common_elements(list1, list2)\n",
        "print(f\"Common elements: {result}\")"
      ]
    },
    {
      "cell_type": "markdown",
      "metadata": {
        "id": "9a2f34cb"
      },
      "source": [
        "### 8-Write a Python function that takes a list of numbers and an element to remove from the list."
      ]
    },
    {
      "cell_type": "code",
      "source": [
        "def remove_element(numbers, element):\n",
        "    # Use a list comprehension to create a new list without the specified element\n",
        "    new_list = [num for num in numbers if num != element]\n",
        "    return new_list\n",
        "\n",
        "\n",
        "numbers = [1, 2, 3, 4, 5]\n",
        "element = 3\n",
        "result = remove_element([1, 2, 3, 4, 5], 3)\n",
        "print(f\"New list after removing {element}: {result}\")"
      ],
      "metadata": {
        "colab": {
          "base_uri": "https://localhost:8080/"
        },
        "id": "gB2tuBvXoNFJ",
        "outputId": "1cc95d9d-cf21-42b5-d15b-b4b666ca5f5a"
      },
      "execution_count": null,
      "outputs": [
        {
          "output_type": "stream",
          "name": "stdout",
          "text": [
            "New list after removing 3: [1, 2, 4, 5]\n"
          ]
        }
      ]
    },
    {
      "cell_type": "markdown",
      "metadata": {
        "ExecuteTime": {
          "end_time": "2023-07-23T22:18:08.230185Z",
          "start_time": "2023-07-23T22:18:08.224220Z"
        },
        "id": "f1658f3b"
      },
      "source": [
        "### 9-Given 4 numbers A, B, C and D. Print the last 2 digits from their Multiplication.\n",
        "### Example :\n",
        "### the Multiplication of 4 numbers is 5 * 7 * 2 * 4 = 280 so the answer will be the last 2 digits which are 80."
      ]
    },
    {
      "cell_type": "code",
      "source": [
        "def last_two_digits(num1, num2, num3, num4):\n",
        "    # Multiply the numbers\n",
        "    product = num1 * num2 * num3 * num4\n",
        "\n",
        "    # Extract the last two digits\n",
        "    last_digits = product % 100\n",
        "\n",
        "    return last_digits\n",
        "\n",
        "result = last_two_digits(96, 65, 36, 56)\n",
        "print(f\"The last two digits of the multiplication are: {result}\")"
      ],
      "metadata": {
        "colab": {
          "base_uri": "https://localhost:8080/"
        },
        "id": "e_l4YIYbpexI",
        "outputId": "211a36c5-110c-44a4-bbfa-d275ef64472c"
      },
      "execution_count": null,
      "outputs": [
        {
          "output_type": "stream",
          "name": "stdout",
          "text": [
            "The last two digits of the multiplication are: 40\n"
          ]
        }
      ]
    },
    {
      "cell_type": "markdown",
      "metadata": {
        "ExecuteTime": {
          "end_time": "2023-07-23T22:26:14.833712Z",
          "start_time": "2023-07-23T22:26:14.819130Z"
        },
        "id": "d7ab15bb"
      },
      "source": [
        "### 10- Given a number X. Determine if the number is prime or not"
      ]
    },
    {
      "cell_type": "code",
      "source": [
        "def is_prime(x):\n",
        "\n",
        "    if x <= 1:\n",
        "        return False\n",
        "    for i in range(2, int(x ** 0.5) + 1):\n",
        "        if x % i == 0:\n",
        "            return False\n",
        "    return True\n",
        "\n",
        "x = int(input(\"Enter a number: \"))\n",
        "if is_prime(x):\n",
        "    print(f\"{x} is a prime number.\")\n",
        "else:\n",
        "    print(f\"{x} is not a prime number.\")\n"
      ],
      "metadata": {
        "id": "U7IYq8nmrnRm"
      },
      "execution_count": null,
      "outputs": []
    },
    {
      "cell_type": "markdown",
      "metadata": {
        "id": "e1d1dcf9"
      },
      "source": [
        "### 11- Given a number N and a list A of N numbers. Determine if the number X exists in array A or not and print its position (0-index)."
      ]
    },
    {
      "cell_type": "markdown",
      "metadata": {
        "id": "f2ec854b"
      },
      "source": [
        "### 12- Given a number N and a list A of N numbers. Determine if the array is lucky or not.\n",
        "\n",
        "#### Note: the array is lucky if the frequency (number of occurrence) of the minimum element is odd."
      ]
    },
    {
      "cell_type": "markdown",
      "metadata": {
        "id": "e1ce1ae5"
      },
      "source": [
        "### 13-Given a number N and a list A of N numbers. Print the array after doing the following operations:\n",
        "\n",
        "#### Find minimum number in these numbers.\n",
        "#### Find maximum number in these numbers.\n",
        "##### Swap minimum number with maximum number."
      ]
    },
    {
      "cell_type": "markdown",
      "metadata": {
        "ExecuteTime": {
          "end_time": "2023-07-23T23:10:06.436833Z",
          "start_time": "2023-07-23T23:10:06.422086Z"
        },
        "id": "9eb8e9c5"
      },
      "source": [
        "### 14-Given a number N and an array A of N numbers. Print the lowest number and its position.\n",
        "\n",
        "### Note: if there are more than one answer print first one's position."
      ]
    },
    {
      "cell_type": "markdown",
      "metadata": {
        "ExecuteTime": {
          "end_time": "2023-07-23T23:20:55.880128Z",
          "start_time": "2023-07-23T23:20:55.861804Z"
        },
        "id": "f35d3427"
      },
      "source": [
        "### 15-Given a number N and an array A of N numbers. Print the numbers after sorting them"
      ]
    },
    {
      "cell_type": "markdown",
      "metadata": {
        "ExecuteTime": {
          "end_time": "2023-07-23T23:46:15.127981Z",
          "start_time": "2023-07-23T23:46:15.108766Z"
        },
        "id": "a172f354"
      },
      "source": [
        "### 16- Write a Python program to remove spaces from a given string"
      ]
    },
    {
      "cell_type": "markdown",
      "metadata": {
        "id": "a5470d49"
      },
      "source": [
        "### 17-write a Python program to swap first and last element of any list."
      ]
    },
    {
      "cell_type": "code",
      "source": [
        "\n",
        "\n"
      ],
      "metadata": {
        "id": "_VKAufhu2Eoy"
      },
      "execution_count": null,
      "outputs": []
    }
  ]
}